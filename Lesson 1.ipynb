{
 "cells": [
  {
   "cell_type": "code",
   "execution_count": 1,
   "id": "061f99ca",
   "metadata": {},
   "outputs": [],
   "source": [
    "analyst = 'Andrey'"
   ]
  },
  {
   "cell_type": "code",
   "execution_count": 2,
   "id": "b5d973f3",
   "metadata": {},
   "outputs": [],
   "source": [
    "year = 1"
   ]
  },
  {
   "cell_type": "code",
   "execution_count": 3,
   "id": "718f6e90",
   "metadata": {},
   "outputs": [],
   "source": [
    "has_jobs = False"
   ]
  },
  {
   "cell_type": "code",
   "execution_count": 4,
   "id": "485f16e1",
   "metadata": {},
   "outputs": [],
   "source": [
    "analysts = ['Andrey', 'Inna','Semen']"
   ]
  },
  {
   "cell_type": "code",
   "execution_count": 5,
   "id": "7af3e565",
   "metadata": {},
   "outputs": [],
   "source": [
    "years = [2, 3, 4]"
   ]
  },
  {
   "cell_type": "code",
   "execution_count": 6,
   "id": "ff973572",
   "metadata": {},
   "outputs": [
    {
     "data": {
      "text/plain": [
       "2"
      ]
     },
     "execution_count": 6,
     "metadata": {},
     "output_type": "execute_result"
    }
   ],
   "source": [
    "years[0]"
   ]
  },
  {
   "cell_type": "code",
   "execution_count": 7,
   "id": "2b18febd",
   "metadata": {},
   "outputs": [],
   "source": [
    "analysts.append('Nick')"
   ]
  },
  {
   "cell_type": "code",
   "execution_count": 8,
   "id": "03979ae8",
   "metadata": {},
   "outputs": [
    {
     "name": "stdout",
     "output_type": "stream",
     "text": [
      "['Andrey', 'Inna', 'Semen', 'Nick']\n"
     ]
    }
   ],
   "source": [
    "print(analysts)"
   ]
  },
  {
   "cell_type": "code",
   "execution_count": 9,
   "id": "01666f0e",
   "metadata": {},
   "outputs": [
    {
     "data": {
      "text/plain": [
       "'Nick'"
      ]
     },
     "execution_count": 9,
     "metadata": {},
     "output_type": "execute_result"
    }
   ],
   "source": [
    "analysts.pop(3)"
   ]
  },
  {
   "cell_type": "code",
   "execution_count": 10,
   "id": "edbed46b",
   "metadata": {},
   "outputs": [
    {
     "data": {
      "text/plain": [
       "['Andrey', 'Inna', 'Semen']"
      ]
     },
     "execution_count": 10,
     "metadata": {},
     "output_type": "execute_result"
    }
   ],
   "source": [
    "analysts"
   ]
  },
  {
   "cell_type": "code",
   "execution_count": 11,
   "id": "c02f06de",
   "metadata": {},
   "outputs": [],
   "source": [
    "has_jobs = True"
   ]
  },
  {
   "cell_type": "code",
   "execution_count": 12,
   "id": "35dd8023",
   "metadata": {},
   "outputs": [
    {
     "name": "stdout",
     "output_type": "stream",
     "text": [
      "Andrey is happy!\n"
     ]
    }
   ],
   "source": [
    "if has_jobs:\n",
    "    message = 'Andrey is happy!'\n",
    "    print(message)\n",
    "else: \n",
    "    print('Andrey is sad!')"
   ]
  },
  {
   "cell_type": "code",
   "execution_count": 13,
   "id": "87368e95",
   "metadata": {},
   "outputs": [],
   "source": [
    "jobs_years = 2"
   ]
  },
  {
   "cell_type": "code",
   "execution_count": 14,
   "id": "c0bbe2b7",
   "metadata": {},
   "outputs": [],
   "source": [
    "salary = 100000"
   ]
  },
  {
   "cell_type": "code",
   "execution_count": 15,
   "id": "f8c88b19",
   "metadata": {},
   "outputs": [],
   "source": [
    "coefficent = 0"
   ]
  },
  {
   "cell_type": "code",
   "execution_count": 16,
   "id": "c689bf82",
   "metadata": {},
   "outputs": [],
   "source": [
    "message = 'Addition is equal {coef} x. New salary is {new_salary} rub.'"
   ]
  },
  {
   "cell_type": "code",
   "execution_count": 17,
   "id": "fdfb8bdb",
   "metadata": {},
   "outputs": [
    {
     "name": "stdout",
     "output_type": "stream",
     "text": [
      "Addition is equal 0.2 x. New salary is 120000.0 rub.\n"
     ]
    }
   ],
   "source": [
    "if jobs_years < 1:\n",
    "    coefficent = 0\n",
    "elif jobs_years >= 1 and jobs_years <=2:\n",
    "    coefficent = 0.2\n",
    "else:\n",
    "    coefficent = 0.4\n",
    "new_salary = salary + salary * coefficent\n",
    "print(message.format(coef=coefficent,new_salary = new_salary))"
   ]
  },
  {
   "cell_type": "code",
   "execution_count": null,
   "id": "74a755e9",
   "metadata": {},
   "outputs": [],
   "source": []
  },
  {
   "cell_type": "code",
   "execution_count": 18,
   "id": "b185856f",
   "metadata": {},
   "outputs": [],
   "source": [
    "analysts = ['Andrey', 'Inna','Semen']"
   ]
  },
  {
   "cell_type": "code",
   "execution_count": 19,
   "id": "181c0435",
   "metadata": {},
   "outputs": [
    {
     "name": "stdout",
     "output_type": "stream",
     "text": [
      "Analyst name is Andrey\n",
      "Analyst name is Semen\n"
     ]
    }
   ],
   "source": [
    "for i in analysts:\n",
    "    if len(i) > 4:\n",
    "        print(\"Analyst name is {}\".format(i))"
   ]
  },
  {
   "cell_type": "code",
   "execution_count": null,
   "id": "9ad367e8",
   "metadata": {},
   "outputs": [],
   "source": []
  },
  {
   "cell_type": "code",
   "execution_count": 20,
   "id": "b63c6fbe",
   "metadata": {},
   "outputs": [],
   "source": [
    "analyst_data = {'Andrey': [2, 100000], 'Inna': [3, 200000], 'Semen': [4, 250000] }"
   ]
  },
  {
   "cell_type": "code",
   "execution_count": 21,
   "id": "ac9206ce",
   "metadata": {},
   "outputs": [],
   "source": [
    "analyst_data['Nick'] = [5, 350000]"
   ]
  },
  {
   "cell_type": "code",
   "execution_count": 22,
   "id": "f9abe810",
   "metadata": {},
   "outputs": [
    {
     "data": {
      "text/plain": [
       "2"
      ]
     },
     "execution_count": 22,
     "metadata": {},
     "output_type": "execute_result"
    }
   ],
   "source": [
    "len(analyst_data['Andrey'])"
   ]
  },
  {
   "cell_type": "code",
   "execution_count": 23,
   "id": "efbc79c4",
   "metadata": {},
   "outputs": [
    {
     "name": "stdout",
     "output_type": "stream",
     "text": [
      "Andrey [2, 100000]\n",
      "Inna [3, 200000]\n",
      "Semen [4, 250000]\n",
      "Nick [5, 350000]\n"
     ]
    }
   ],
   "source": [
    "for i in analyst_data:\n",
    "    print(i,analyst_data[i])"
   ]
  },
  {
   "cell_type": "code",
   "execution_count": 24,
   "id": "18876d6c",
   "metadata": {},
   "outputs": [
    {
     "name": "stdout",
     "output_type": "stream",
     "text": [
      "Analyst name is Andrey\n",
      "Years of exp: 2\n",
      "Salary is: 100000\n",
      "Analyst name is Inna\n",
      "Years of exp: 3\n",
      "Salary is: 200000\n",
      "Analyst name is Semen\n",
      "Years of exp: 4\n",
      "Salary is: 250000\n",
      "Analyst name is Nick\n",
      "Years of exp: 5\n",
      "Salary is: 350000\n"
     ]
    }
   ],
   "source": [
    "for i in analyst_data:\n",
    "    print('Analyst name is {}'.format(i))\n",
    "    for j in range(len(analyst_data[i])-1):\n",
    "        print('Years of exp: {}'.format(analyst_data[i][j]))\n",
    "        print('Salary is: {}'.format(analyst_data[i][j+1]))"
   ]
  },
  {
   "cell_type": "code",
   "execution_count": null,
   "id": "e9b0d394",
   "metadata": {},
   "outputs": [],
   "source": []
  },
  {
   "cell_type": "code",
   "execution_count": null,
   "id": "61cceb69",
   "metadata": {},
   "outputs": [],
   "source": []
  },
  {
   "cell_type": "code",
   "execution_count": null,
   "id": "2966c335",
   "metadata": {},
   "outputs": [],
   "source": []
  }
 ],
 "metadata": {
  "kernelspec": {
   "display_name": "Python 3",
   "language": "python",
   "name": "python3"
  },
  "language_info": {
   "codemirror_mode": {
    "name": "ipython",
    "version": 3
   },
   "file_extension": ".py",
   "mimetype": "text/x-python",
   "name": "python",
   "nbconvert_exporter": "python",
   "pygments_lexer": "ipython3",
   "version": "3.8.8"
  }
 },
 "nbformat": 4,
 "nbformat_minor": 5
}
